{
 "cells": [
  {
   "cell_type": "code",
   "execution_count": null,
   "metadata": {},
   "outputs": [],
   "source": [
    "from simple_pid import PID\n",
    "#testing git"
   ]
  },
  {
   "cell_type": "code",
   "execution_count": 3,
   "metadata": {},
   "outputs": [
    {
     "data": {
      "text/plain": [
       "0.0"
      ]
     },
     "execution_count": 3,
     "metadata": {},
     "output_type": "execute_result"
    }
   ],
   "source": [
    "pid = PID(0, 0, 0.1, setpoint=10, sample_time=0.1)\n",
    "pid(10)\n",
    "pid(20)"
   ]
  },
  {
   "cell_type": "markdown",
   "metadata": {},
   "source": [
    "## Water Boiler Example"
   ]
  },
  {
   "cell_type": "code",
   "execution_count": null,
   "metadata": {},
   "outputs": [],
   "source": [
    "#!/usr/bin/env python\n",
    "\n",
    "import os\n",
    "import sys\n",
    "import time\n",
    "import matplotlib.pyplot as plt\n",
    "from simple_pid import PID\n",
    "\n",
    "\n",
    "class WaterBoiler:\n",
    "    \"\"\"\n",
    "    Simple simulation of a water boiler which can heat up water\n",
    "    and where the heat dissipates slowly over time\n",
    "    \"\"\"\n",
    "\n",
    "    def __init__(self):\n",
    "        self.water_temp = 20\n",
    "\n",
    "    def update(self, boiler_power, dt):\n",
    "        if boiler_power > 0:\n",
    "            # Boiler can only produce heat, not cold\n",
    "            self.water_temp += 1 * boiler_power * dt\n",
    "\n",
    "        # Some heat dissipation\n",
    "        self.water_temp -= 0.02 * dt\n",
    "        return self.water_temp\n",
    "\n",
    "\n",
    "if __name__ == '__main__':\n",
    "    boiler = WaterBoiler()\n",
    "    water_temp = boiler.water_temp\n",
    "\n",
    "    pid = PID(5, 0.01, 0.1, setpoint=water_temp)\n",
    "    pid.output_limits = (0, 100)\n",
    "\n",
    "    start_time = time.time()\n",
    "    last_time = start_time\n",
    "\n",
    "    # Keep track of values for plotting\n",
    "    setpoint, y, x = [], [], []\n",
    "\n",
    "    while time.time() - start_time < 10:\n",
    "        current_time = time.time()\n",
    "        print(current_time-start_time,end='\\r')\n",
    "        dt = current_time - last_time\n",
    "\n",
    "        power = pid(water_temp)\n",
    "        water_temp = boiler.update(power, dt)\n",
    "\n",
    "        x += [current_time - start_time]\n",
    "        y += [water_temp]\n",
    "        setpoint += [pid.setpoint]\n",
    "\n",
    "        if current_time - start_time > 1:\n",
    "            pid.setpoint = 100\n",
    "\n",
    "        last_time = current_time\n",
    "\n",
    "    plt.plot(x, y, label='measured')\n",
    "    plt.plot(x, setpoint, label='target')\n",
    "    plt.xlabel('time')\n",
    "    plt.ylabel('temperature')\n",
    "    plt.legend()\n",
    "    if os.getenv('NO_DISPLAY'):\n",
    "        # If run in CI the plot is saved to file instead of shown to the user\n",
    "        plt.savefig(f\"result-py{'.'.join([str(x) for x in sys.version_info[:2]])}.png\")\n",
    "    else:\n",
    "        plt.show()\n"
   ]
  }
 ],
 "metadata": {
  "kernelspec": {
   "display_name": "Python 3",
   "language": "python",
   "name": "python3"
  },
  "language_info": {
   "codemirror_mode": {
    "name": "ipython",
    "version": 3
   },
   "file_extension": ".py",
   "mimetype": "text/x-python",
   "name": "python",
   "nbconvert_exporter": "python",
   "pygments_lexer": "ipython3",
   "version": "3.11.5"
  }
 },
 "nbformat": 4,
 "nbformat_minor": 2
}
